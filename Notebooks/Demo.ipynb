{
 "cells": [
  {
   "cell_type": "markdown",
   "metadata": {},
   "source": [
    "# Conceptual Design: Demo 2D structures"
   ]
  },
  {
   "cell_type": "markdown",
   "metadata": {},
   "source": [
    "## Outline"
   ]
  },
  {
   "cell_type": "markdown",
   "metadata": {},
   "source": [
    "Exploration of use of Python/Jupyter to analyze and visualize structures discussed in Hervé Capart's _Conceptual Design_ class at NTU Civil Engineering.\n",
    "\n",
    "This notebook uses a series of modules written in the Python package `cdsn` to analyze and visualize the stability of structures designed in `SketchUp` and exported as [STereoLithography (`STL`)](https://docs.fileformat.com/cad/stl/) files. It can also handle 3D data as [Collada (`DAE`)](https://www.khronos.org/collada/), [3D Manufacturing Format (`3MF`)](https://3mf.io/3mf-specification/), and [`glTF`](https://registry.khronos.org/glTF/specs/2.0/glTF-2.0.html) files.\n",
    "\n",
    "Each analytical module defines a single class; analysis consists of daisy-chaining instances of these classes. \n"
   ]
  },
  {
   "cell_type": "markdown",
   "metadata": {},
   "source": [
    "$$\n",
    "\\begin{matrix}\n",
    "    \\textsf{3D data file} \\quad\\rightarrow \n",
    "    &\\textsf{mesh}  \\qquad & \\qquad\\qquad \\\\\n",
    "    &\\Downarrow  \\qquad & \\\\\n",
    "    &\\textsf{graph}  \\qquad & \\\\\n",
    "    &\\Downarrow  \\qquad & \\\\\n",
    "    &\\textsf{communities}  \\qquad & \\\\\n",
    "    &\\Downarrow  \\qquad & \\\\\n",
    "    &\\textsf{geometry}  \\qquad & \\\\\n",
    "    &\\Downarrow  \\qquad & \\\\\n",
    "    &\\textsf{forces}  \\qquad & \\\\\n",
    "    &\\Downarrow  \\qquad & \\\\\n",
    "    &\\textsf{balance}  \\qquad & \\\\\n",
    "\\end{matrix}\n",
    "$$\n"
   ]
  },
  {
   "cell_type": "markdown",
   "metadata": {},
   "source": [
    "\n",
    "Visualization involves instantiating the `Visualization` class as `viz`, generating a `PyVista` mesh (`pvmesh`) for 3D, and passing some of the analysis class instances to `viz` methods."
   ]
  },
  {
   "cell_type": "markdown",
   "metadata": {},
   "source": [
    "<!-- \\Rightarrow \\qquad \\textsf{pvmesh} -->\n",
    "$$\n",
    "\\begin{matrix}\n",
    "    &\\mathsf{geometry}  &  & \\\\\n",
    "    & \\Downarrow  &  &   \\\\\n",
    "    & \\mathrm{viz.build\\_pvmesh}  &  &   \\\\\n",
    "    & \\Downarrow  &  &  \\\\\n",
    "    & \\mathsf{pvmesh}  &  & \\  \\\\\n",
    "\\end{matrix}\n",
    "$$\n"
   ]
  },
  {
   "cell_type": "markdown",
   "metadata": {},
   "source": [
    "\n",
    "3D render (`PyVista`):\n",
    "$$\n",
    "\\begin{matrix}\n",
    "    &\\phantom{\\mathsf{mesh}}  \\qquad & \\phantom{\\Rightarrow}  \n",
    "                & \\mathsf{graph},\\,\\mathsf{forces} & \\qquad \\\\\n",
    "    &  &  &\\Downarrow & \\qquad   \\\\\n",
    "\\    & \\mathsf{pvmesh}  & \\Rightarrow &\\mathrm{viz.plot\\_model\\_3d}  & \\qquad  \\\\\n",
    "\\end{matrix}\n",
    "$$\n"
   ]
  },
  {
   "cell_type": "markdown",
   "metadata": {},
   "source": [
    "2D render (`MatPlotLib`)\n",
    "$$\n",
    "\\begin{matrix}\n",
    "    &\\phantom{\\mathsf{mesh}}  \\qquad & \\phantom{\\Rightarrow}  \n",
    "                & \\mathsf{graph},\\,\\mathsf{geometry},\\,\\mathsf{forces} & \\qquad \\\\\n",
    "    &  &  &\\Downarrow & \\qquad   \\\\\n",
    "    & \\phantom{\\mathsf{pvmesh}}  & \\phantom{\\Rightarrow} &\\mathrm{viz.plot\\_model\\_2d}  & \\qquad  \\\\\n",
    "\\end{matrix}\n",
    "$$"
   ]
  },
  {
   "cell_type": "markdown",
   "metadata": {},
   "source": [
    "Network graph (`NetworkX`)\n",
    "$$\n",
    "\\begin{matrix}\n",
    "    &\\phantom{\\mathsf{mesh}}  \\qquad & \\phantom{\\Rightarrow}  \n",
    "                & \\mathsf{graph} & \\qquad \\\\\n",
    "    &  &  &\\Downarrow & \\qquad   \\\\\n",
    "    & \\phantom{\\mathsf{pvmesh}}  & \\phantom{\\Rightarrow} &\\mathrm{viz.plot\\_network\\_graph} & \\qquad   \\\\\n",
    "\\end{matrix}\n",
    "$$"
   ]
  },
  {
   "cell_type": "markdown",
   "metadata": {},
   "source": [
    "## Preliminaries"
   ]
  },
  {
   "cell_type": "code",
   "execution_count": 146,
   "metadata": {},
   "outputs": [],
   "source": [
    "import os\n",
    "import numpy as np\n",
    "from collections import Counter\n",
    "import sympy as sy\n",
    "from sympy import init_printing\n",
    "init_printing(use_unicode=True, pretty_print=True, wrap_line=True)\n",
    "from sympy import (\n",
    "    Eq, Symbol, MatrixSymbol, MatAdd, Matrix, Rational, Integer,\n",
    ")\n",
    "from pprint import PrettyPrinter\n",
    "pp = PrettyPrinter(indent=4).pprint\n",
    "from cdsn.mesh import Mesh\n",
    "from cdsn.graph import Graph\n",
    "from cdsn.communities import Communities\n",
    "from cdsn.topology import Topology\n",
    "from cdsn.forces import Forces\n",
    "from cdsn.balance import Balance\n",
    "from cdsn.plot import Visualization\n",
    "from cdsn.save import create_directories, export_plots"
   ]
  },
  {
   "cell_type": "code",
   "execution_count": 147,
   "metadata": {},
   "outputs": [],
   "source": [
    "viz = Visualization(font_name=\"Arial\")"
   ]
  },
  {
   "cell_type": "markdown",
   "metadata": {},
   "source": [
    "# Analysis"
   ]
  },
  {
   "cell_type": "markdown",
   "metadata": {},
   "source": [
    "All the analysis can be carried out in one line, this this:\n",
    "\n",
    "    Balance(Forces(Topology(Communities(Graph(Mesh(name, data_path,))))))\n",
    "\n",
    "But we'll take things a bit slower."
   ]
  },
  {
   "cell_type": "markdown",
   "metadata": {},
   "source": [
    "## Load 3D data file and generate a mesh"
   ]
  },
  {
   "cell_type": "code",
   "execution_count": 148,
   "metadata": {},
   "outputs": [],
   "source": [
    "name = \"simpleStructure1_v4\"\n",
    "# name = \"standingTower1_v4\""
   ]
  },
  {
   "cell_type": "code",
   "execution_count": 149,
   "metadata": {},
   "outputs": [],
   "source": [
    "# file_type = \"Collada\"\n",
    "# file_type = \"3MF\"\n",
    "file_type = \"glTF\"\n",
    "# file_type = \"STL\""
   ]
  },
  {
   "cell_type": "code",
   "execution_count": 150,
   "metadata": {},
   "outputs": [
    {
     "data": {
      "text/plain": [
       "'../Data/Export'"
      ]
     },
     "execution_count": 150,
     "metadata": {},
     "output_type": "execute_result"
    }
   ],
   "source": [
    "data_path = os.path.join(os.pardir, \"Data\", \"Export\", )\n",
    "data_path"
   ]
  },
  {
   "cell_type": "code",
   "execution_count": 178,
   "metadata": {},
   "outputs": [
    {
     "name": "stdout",
     "output_type": "stream",
     "text": [
      "Primitive(extensions={}, extras={}, attributes=Attributes(POSITION=0, NORMAL=1, TANGENT=None, TEXCOORD_0=None, TEXCOORD_1=None, COLOR_0=None, JOINTS_0=None, WEIGHTS_0=None), indices=2, mode=4, material=0, targets=[])\n",
      "Primitive(extensions={}, extras={}, attributes=Attributes(POSITION=3, NORMAL=4, TANGENT=None, TEXCOORD_0=None, TEXCOORD_1=None, COLOR_0=None, JOINTS_0=None, WEIGHTS_0=None), indices=5, mode=4, material=1, targets=[])\n",
      "Primitive(extensions={}, extras={}, attributes=Attributes(POSITION=6, NORMAL=7, TANGENT=None, TEXCOORD_0=None, TEXCOORD_1=None, COLOR_0=None, JOINTS_0=None, WEIGHTS_0=None), indices=8, mode=4, material=1, targets=[])\n",
      "Primitive(extensions={}, extras={}, attributes=Attributes(POSITION=9, NORMAL=10, TANGENT=None, TEXCOORD_0=None, TEXCOORD_1=None, COLOR_0=None, JOINTS_0=None, WEIGHTS_0=None), indices=11, mode=4, material=2, targets=[])\n"
     ]
    },
    {
     "data": {
      "text/plain": [
       "('../Data/Export/simpleStructure1_v4.gltf',\n",
       " <trimesh.Trimesh(vertices.shape=(18, 3), faces.shape=(14, 3))>,\n",
       " {})"
      ]
     },
     "execution_count": 178,
     "metadata": {},
     "output_type": "execute_result"
    }
   ],
   "source": [
    "mesh = Mesh(name, data_path, file_type,)\n",
    "mesh.file_path_name, mesh.trimesh, mesh.trimesh.metadata"
   ]
  },
  {
   "cell_type": "code",
   "execution_count": 180,
   "metadata": {},
   "outputs": [
    {
     "name": "stdout",
     "output_type": "stream",
     "text": [
      "{   (-0.0, -0.5, 0.0): 3,\n",
      "    (-0.0, 0.0, 0.0): 3,\n",
      "    (0.0, 2.5, -0.0): 2,\n",
      "    (0.2, 0.266667, -0.0): 1,\n",
      "    (0.2, 2.233333, -0.0): 1,\n",
      "    (2.0, -0.5, -0.0): 3,\n",
      "    (2.0, -0.0, -0.0): 3,\n",
      "    (2.0, 2.5, -0.0): 2,\n",
      "    (2.0, 2.9, -0.0): 2,\n",
      "    (2.5, 2.5, -0.0): 2,\n",
      "    (2.5, 3.0, -0.0): 2,\n",
      "    (3.4, 3.5, -0.0): 0,\n",
      "    (3.5, 2.9, -0.0): 2,\n",
      "    (3.5, 3.2, -0.0): 2,\n",
      "    (3.6, 3.5, -0.0): 0,\n",
      "    (5.0, 3.5, -0.0): 2,\n",
      "    (6.0, -0.5, -0.0): 3,\n",
      "    (6.0, -0.0, -0.0): 3}\n"
     ]
    }
   ],
   "source": [
    "pp(mesh.d_glvertex_glnode)"
   ]
  },
  {
   "cell_type": "code",
   "execution_count": 154,
   "metadata": {},
   "outputs": [],
   "source": [
    "# pp(graph.d_vpoints_vertex)"
   ]
  },
  {
   "cell_type": "code",
   "execution_count": 182,
   "metadata": {},
   "outputs": [
    {
     "data": {
      "text/plain": [
       "{0: 'Force 1kN', 1: 'Column', 2: 'Roof', 3: 'Ground'}"
      ]
     },
     "execution_count": 182,
     "metadata": {},
     "output_type": "execute_result"
    }
   ],
   "source": [
    "mesh.d_glnode_info"
   ]
  },
  {
   "cell_type": "code",
   "execution_count": 183,
   "metadata": {},
   "outputs": [
    {
     "data": {
      "text/plain": [
       "{(3.6, 3.5, -0.0): 'Force 1kN',\n",
       " (3.4, 3.5, -0.0): 'Force 1kN',\n",
       " (3.5, 3.2, -0.0): 'Roof',\n",
       " (0.2, 0.266667, -0.0): 'Column',\n",
       " (0.0, 2.5, -0.0): 'Roof',\n",
       " (-0.0, 0.0, 0.0): 'Ground',\n",
       " (0.2, 2.233333, -0.0): 'Column',\n",
       " (2.0, 2.5, -0.0): 'Roof',\n",
       " (2.0, 2.9, -0.0): 'Roof',\n",
       " (2.5, 2.5, -0.0): 'Roof',\n",
       " (2.0, -0.0, -0.0): 'Ground',\n",
       " (2.5, 3.0, -0.0): 'Roof',\n",
       " (3.5, 2.9, -0.0): 'Roof',\n",
       " (5.0, 3.5, -0.0): 'Roof',\n",
       " (-0.0, -0.5, 0.0): 'Ground',\n",
       " (2.0, -0.5, -0.0): 'Ground',\n",
       " (6.0, -0.0, -0.0): 'Ground',\n",
       " (6.0, -0.5, -0.0): 'Ground'}"
      ]
     },
     "execution_count": 183,
     "metadata": {},
     "output_type": "execute_result"
    }
   ],
   "source": [
    "{\n",
    "    glvertex_ : mesh.d_glnode_info[glnode_]\n",
    "    for glvertex_, glnode_ in mesh.d_glvertex_glnode.items()\n",
    "}"
   ]
  },
  {
   "cell_type": "markdown",
   "metadata": {},
   "source": [
    "## Convert into a graph and interpret the topology"
   ]
  },
  {
   "cell_type": "code",
   "execution_count": 155,
   "metadata": {},
   "outputs": [
    {
     "data": {
      "text/plain": [
       "(<networkx.classes.graph.Graph at 0x17d7badd0>, 14)"
      ]
     },
     "execution_count": 155,
     "metadata": {},
     "output_type": "execute_result"
    }
   ],
   "source": [
    "graph = Graph(mesh)\n",
    "graph.nxgraph, graph.n_triangles"
   ]
  },
  {
   "cell_type": "code",
   "execution_count": 156,
   "metadata": {},
   "outputs": [],
   "source": [
    "# viz.plot_network_graph(name, graph, \"kamada\", fig_size=(4,4,),)"
   ]
  },
  {
   "cell_type": "code",
   "execution_count": 157,
   "metadata": {},
   "outputs": [
    {
     "data": {
      "text/plain": [
       "(4,\n",
       " {0: frozenset({0, 1, 2, 3, 4, 5}),\n",
       "  1: frozenset({1, 6, 7, 8, 9, 10, 11, 12, 13}),\n",
       "  2: frozenset({2, 8, 14, 15}),\n",
       "  3: frozenset({12, 16, 17})})"
      ]
     },
     "execution_count": 157,
     "metadata": {},
     "output_type": "execute_result"
    }
   ],
   "source": [
    "communities = Communities(graph)\n",
    "communities.n_communities, communities.d_community_vertices"
   ]
  },
  {
   "cell_type": "code",
   "execution_count": 158,
   "metadata": {},
   "outputs": [],
   "source": [
    "topology = Topology(communities)"
   ]
  },
  {
   "cell_type": "markdown",
   "metadata": {},
   "source": [
    "## Identify the loads and build equations for forces & moments"
   ]
  },
  {
   "cell_type": "code",
   "execution_count": 159,
   "metadata": {},
   "outputs": [],
   "source": [
    "forces = Forces(topology)"
   ]
  },
  {
   "cell_type": "code",
   "execution_count": 160,
   "metadata": {},
   "outputs": [],
   "source": [
    "balance = Balance(forces)"
   ]
  },
  {
   "cell_type": "code",
   "execution_count": 161,
   "metadata": {},
   "outputs": [
    {
     "data": {
      "image/png": "[encoded data removed]",
      "text/latex": [
       "$\\displaystyle \\left[\\begin{matrix}1 & F_{1,X} & F_{1,Y}\\\\2 & F_{2,X} & F_{2,Y}\\\\8 & F_{8,X} & F_{8,Y}\\\\12 & F_{12,X} & F_{12,Y}\\end{matrix}\\right]$"
      ],
      "text/plain": [
       "⎡1   F_1,X   F_1,Y ⎤\n",
       "⎢                  ⎥\n",
       "⎢2   F_2,X   F_2,Y ⎥\n",
       "⎢                  ⎥\n",
       "⎢8   F_8,X   F_8,Y ⎥\n",
       "⎢                  ⎥\n",
       "⎣12  F_12,X  F_12,Y⎦"
      ]
     },
     "execution_count": 161,
     "metadata": {},
     "output_type": "execute_result"
    }
   ],
   "source": [
    "Matrix([\n",
    "    ([Integer(node_)]+[fvc_ for fvc_ in balance.d_node_fvc[node_].values()] )\n",
    "    for node_ in balance.d_node_fvc\n",
    " ])"
   ]
  },
  {
   "cell_type": "code",
   "execution_count": 162,
   "metadata": {},
   "outputs": [
    {
     "data": {
      "image/png": "[encoded data removed]",
      "text/latex": [
       "$\\displaystyle \\left[ \\left[\\begin{matrix}0 & F_{8,X} & F_{8,Y}\\\\0 & F_{1,X} & F_{1,Y}\\\\0 & F_{12,X} & F_{12,Y}\\end{matrix}\\right], \\  \\left[\\begin{matrix}1 & F_{8,X} & F_{8,Y}\\\\1 & F_{2,X} & F_{2,Y}\\end{matrix}\\right]\\right]$"
      ],
      "text/plain": [
       "⎡⎡0  F_8,X   F_8,Y ⎤                   ⎤\n",
       "⎢⎢                 ⎥  ⎡1  F_8,X  F_8,Y⎤⎥\n",
       "⎢⎢0  F_1,X   F_1,Y ⎥, ⎢               ⎥⎥\n",
       "⎢⎢                 ⎥  ⎣1  F_2,X  F_2,Y⎦⎥\n",
       "⎣⎣0  F_12,X  F_12,Y⎦                   ⎦"
      ]
     },
     "execution_count": 162,
     "metadata": {},
     "output_type": "execute_result"
    }
   ],
   "source": [
    "[\n",
    "    Matrix([(Integer(member_),fxy_[\"X\"],fxy_[\"Y\"]) for fxy_ in balance.d_member_fvc[member_]])\n",
    "    for member_,fvc_ in balance.d_member_fvc.items()\n",
    "]"
   ]
  },
  {
   "cell_type": "code",
   "execution_count": 163,
   "metadata": {},
   "outputs": [],
   "source": [
    "# { vertex_: np.round(vpoints_,3) for vertex_,vpoints_ in graph.d_vertex_vpoints.items() }"
   ]
  },
  {
   "cell_type": "code",
   "execution_count": 164,
   "metadata": {},
   "outputs": [
    {
     "data": {
      "image/png": "[encoded data removed]",
      "text/latex": [
       "$\\displaystyle \\left\\{ 0 : \\left( \\mathbf{M}_0, \\  \\left[\\begin{matrix}1 & 1 & 1 & 0 & 0 & 0\\\\0 & 0 & 0 & 1 & 1 & 1\\\\0 & 2.0 & 3.5 & 2.5 & 0 & 3.2\\end{matrix}\\right], \\  \\mathbf{F}_0, \\  \\left[\\begin{matrix}F_{8,X}\\\\F_{1,X}\\\\F_{12,X}\\\\F_{8,Y}\\\\F_{1,Y}\\\\F_{12,Y}\\end{matrix}\\right]\\right), \\  1 : \\left( \\mathbf{M}_1, \\  \\left[\\begin{matrix}1 & 1 & 0 & 0\\\\0 & 0 & 1 & 1\\\\0 & 0 & 2.5 & 0\\end{matrix}\\right], \\  \\mathbf{F}_1, \\  \\left[\\begin{matrix}F_{8,X}\\\\F_{2,X}\\\\F_{8,Y}\\\\F_{2,Y}\\end{matrix}\\right]\\right)\\right\\}$"
      ],
      "text/plain": [
       "⎧   ⎛                                                      ⎡F_8,X ⎤⎞          \n",
       "⎪   ⎜                                                      ⎢      ⎥⎟          \n",
       "⎪   ⎜                                                      ⎢F_1,X ⎥⎟     ⎛    \n",
       "⎪   ⎜             ⎡1   1    1    0   0   0 ⎤               ⎢      ⎥⎟     ⎜    \n",
       "⎪   ⎜             ⎢                        ⎥               ⎢F_12,X⎥⎟     ⎜    \n",
       "⎨0: ⎜\\mathbf{M}₀, ⎢0   0    0    1   1   1 ⎥, \\mathbf{F}₀, ⎢      ⎥⎟, 1: ⎜\\mat\n",
       "⎪   ⎜             ⎢                        ⎥               ⎢F_8,Y ⎥⎟     ⎜    \n",
       "⎪   ⎜             ⎣0  2.0  3.5  2.5  0  3.2⎦               ⎢      ⎥⎟     ⎜    \n",
       "⎪   ⎜                                                      ⎢F_1,Y ⎥⎟     ⎝    \n",
       "⎪   ⎜                                                      ⎢      ⎥⎟          \n",
       "⎩   ⎝                                                      ⎣F_12,Y⎦⎠          \n",
       "\n",
       "                                              ⎫\n",
       "                                              ⎪\n",
       "                                      ⎡F_8,X⎤⎞⎪\n",
       "         ⎡1  1   0   0⎤               ⎢     ⎥⎟⎪\n",
       "         ⎢            ⎥               ⎢F_2,X⎥⎟⎪\n",
       "hbf{M}₁, ⎢0  0   1   1⎥, \\mathbf{F}₁, ⎢     ⎥⎟⎬\n",
       "         ⎢            ⎥               ⎢F_8,Y⎥⎟⎪\n",
       "         ⎣0  0  2.5  0⎦               ⎢     ⎥⎟⎪\n",
       "                                      ⎣F_2,Y⎦⎠⎪\n",
       "                                              ⎪\n",
       "                                              ⎭"
      ]
     },
     "execution_count": 164,
     "metadata": {},
     "output_type": "execute_result"
    }
   ],
   "source": [
    "balance.d_member_forceinfo"
   ]
  },
  {
   "cell_type": "code",
   "execution_count": 165,
   "metadata": {},
   "outputs": [
    {
     "data": {
      "image/png": "[encoded data removed]",
      "text/latex": [
       "$\\displaystyle \\left\\{ 0 : \\mathbf{M}_0 \\mathbf{F}_0 = \\left[\\begin{matrix}F_{1,X} + F_{12,X} + F_{8,X}\\\\F_{1,Y} + F_{12,Y} + F_{8,Y}\\\\2.0 F_{1,X} + 3.5 F_{12,X} + 3.2 F_{12,Y} + 2.5 F_{8,Y}\\end{matrix}\\right], \\  1 : \\mathbf{M}_1 \\mathbf{F}_1 = \\left[\\begin{matrix}F_{2,X} + F_{8,X}\\\\F_{2,Y} + F_{8,Y}\\\\2.5 F_{8,Y}\\end{matrix}\\right]\\right\\}$"
      ],
      "text/plain": [
       "⎧                             ⎡            F_1,X + F_12,X + F_8,X             \n",
       "⎪                             ⎢                                               \n",
       "⎨0: \\mathbf{M}₀⋅\\mathbf{F}₀ = ⎢            F_1,Y + F_12,Y + F_8,Y             \n",
       "⎪                             ⎢                                               \n",
       "⎩                             ⎣2.0⋅F_1,X + 3.5⋅F_12,X + 3.2⋅F_12,Y + 2.5⋅F_8,Y\n",
       "\n",
       "⎤                               ⎡F_2,X + F_8,X⎤⎫\n",
       "⎥                               ⎢             ⎥⎪\n",
       "⎥, 1: \\mathbf{M}₁⋅\\mathbf{F}₁ = ⎢F_2,Y + F_8,Y⎥⎬\n",
       "⎥                               ⎢             ⎥⎪\n",
       "⎦                               ⎣  2.5⋅F_8,Y  ⎦⎭"
      ]
     },
     "execution_count": 165,
     "metadata": {},
     "output_type": "execute_result"
    }
   ],
   "source": [
    "balance.d_member_forcemoment"
   ]
  },
  {
   "cell_type": "markdown",
   "metadata": {},
   "source": [
    "# Visualization"
   ]
  },
  {
   "cell_type": "markdown",
   "metadata": {},
   "source": [
    "To view these structures in 3D online, go to:\n",
    "   - [Simple structure #1](https://htmlpreview.github.io/?https://github.com/cstarkjp/ConceptualDesign/blob/main/Plots/simpleStructure1.html)\n",
    "   - [Standing tower #1](https://htmlpreview.github.io/?https://github.com/cstarkjp/ConceptualDesign/blob/main/Plots/standingTower1.html)"
   ]
  },
  {
   "cell_type": "markdown",
   "metadata": {},
   "source": [
    "Need to cross-ref applied load triangles to actual graph and pvmesh triangles – if we want to label the load triangles in 3D."
   ]
  },
  {
   "cell_type": "code",
   "execution_count": 166,
   "metadata": {},
   "outputs": [],
   "source": [
    "pvmesh = viz.build_pvmesh(topology)"
   ]
  },
  {
   "cell_type": "code",
   "execution_count": 167,
   "metadata": {},
   "outputs": [
    {
     "data": {
      "application/vnd.jupyter.widget-view+json": {
       "model_id": "5a0e849a49bc4abf82e85efa90d39fb9",
       "version_major": 2,
       "version_minor": 0
      },
      "text/plain": [
       "Widget(value=\"<iframe src='http://localhost:56056/index.html?ui=P_0x17d7b94e0_2&reconnect=auto' style='width: …"
      ]
     },
     "metadata": {},
     "output_type": "display_data"
    }
   ],
   "source": [
    "plotter = viz.plot_model_3d(\n",
    "    pvmesh,\n",
    "    graph, \n",
    "    forces,\n",
    "    backend=\"trame\", \n",
    "    do_appliedload_labels=True,\n",
    "    font_size=15,\n",
    ")"
   ]
  },
  {
   "cell_type": "code",
   "execution_count": 168,
   "metadata": {},
   "outputs": [
    {
     "data": {
      "image/png": "[encoded data removed]",
      "text/plain": [
       "<Figure size 800x800 with 1 Axes>"
      ]
     },
     "metadata": {
      "image/png": {
       "height": 457,
       "width": 679
      }
     },
     "output_type": "display_data"
    }
   ],
   "source": [
    "viz.plot_model_2D(name, graph, communities, topology)"
   ]
  },
  {
   "cell_type": "markdown",
   "metadata": {},
   "source": [
    "# Export"
   ]
  },
  {
   "cell_type": "code",
   "execution_count": 169,
   "metadata": {},
   "outputs": [],
   "source": [
    "plots_dirname = \"Plots\"\n",
    "plots_path = create_directories((\"..\",), plots_dirname)\n",
    "for gr_ in [viz]:    \n",
    "    export_plots( gr_.fdict, plots_path, file_types=[\"jpg\"], dpi=100 )"
   ]
  },
  {
   "cell_type": "code",
   "execution_count": 170,
   "metadata": {},
   "outputs": [],
   "source": [
    "plotter.export_html(os.path.join(plots_path, f\"{name}.html\"))"
   ]
  }
 ],
 "metadata": {
  "kernelspec": {
   "display_name": "ConceptualDesign",
   "language": "python",
   "name": "python3"
  },
  "language_info": {
   "codemirror_mode": {
    "name": "ipython",
    "version": 3
   },
   "file_extension": ".py",
   "mimetype": "text/x-python",
   "name": "python",
   "nbconvert_exporter": "python",
   "pygments_lexer": "ipython3",
   "version": "3.10.0"
  },
  "orig_nbformat": 4,
  "vscode": {
   "interpreter": {
    "hash": "7bfcb7aeac105b5e2ca8f9bdb6133c47b06d11da3f80f9e78bede304b4240367"
   }
  }
 },
 "nbformat": 4,
 "nbformat_minor": 2
}
