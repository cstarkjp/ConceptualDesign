{
 "cells": [
  {
   "cell_type": "markdown",
   "metadata": {},
   "source": [
    "# Conceptual Design: Demo 2D structures"
   ]
  },
  {
   "cell_type": "markdown",
   "metadata": {},
   "source": [
    "## Outline"
   ]
  },
  {
   "cell_type": "markdown",
   "metadata": {},
   "source": [
    "Exploration of use of Python/Jupyter to analyze and visualize structures discussed in Hervé Capart's _Conceptual Design_ class at NTU Civil Engineering.\n",
    "\n",
    "This notebook uses a series of modules written in the Python package `cdsn` to analyze and visualize the stability of structures designed in `SketchUp` and exported as [STereoLithography (`STL`)](https://docs.fileformat.com/cad/stl/) files. It can also handle 3D data as [Collada (`DAE`)](https://www.khronos.org/collada/), [3D Manufacturing Format (`3MF`)](https://3mf.io/3mf-specification/), and [`glTF`](https://registry.khronos.org/glTF/specs/2.0/glTF-2.0.html) files.\n",
    "\n",
    "Each analytical module defines a single class; analysis consists of daisy-chaining instances of these classes. \n"
   ]
  },
  {
   "cell_type": "markdown",
   "metadata": {},
   "source": [
    "$$\n",
    "\\begin{matrix}\n",
    "    \\textsf{3D data file} \\quad\\rightarrow \n",
    "    &\\textsf{mesh}  \\qquad & \\qquad\\qquad \\\\\n",
    "    &\\Downarrow  \\qquad & \\\\\n",
    "    &\\textsf{graph}  \\qquad & \\\\\n",
    "    &\\Downarrow  \\qquad & \\\\\n",
    "    &\\textsf{communities}  \\qquad & \\\\\n",
    "    &\\Downarrow  \\qquad & \\\\\n",
    "    &\\textsf{geometry}  \\qquad & \\\\\n",
    "    &\\Downarrow  \\qquad & \\\\\n",
    "    &\\textsf{forces}  \\qquad & \\\\\n",
    "    &\\Downarrow  \\qquad & \\\\\n",
    "    &\\textsf{balance}  \\qquad & \\\\\n",
    "\\end{matrix}\n",
    "$$\n"
   ]
  },
  {
   "cell_type": "markdown",
   "metadata": {},
   "source": [
    "\n",
    "Visualization involves instantiating the `Visualization` class as `viz`, generating a `PyVista` mesh (`pvmesh`) for 3D, and passing some of the analysis class instances to `viz` methods."
   ]
  },
  {
   "cell_type": "markdown",
   "metadata": {},
   "source": [
    "<!-- \\Rightarrow \\qquad \\textsf{pvmesh} -->\n",
    "$$\n",
    "\\begin{matrix}\n",
    "    &\\mathsf{geometry}  &  & \\\\\n",
    "    & \\Downarrow  &  &   \\\\\n",
    "    & \\mathrm{viz.build\\_pvmesh}  &  &   \\\\\n",
    "    & \\Downarrow  &  &  \\\\\n",
    "    & \\mathsf{pvmesh}  &  & \\  \\\\\n",
    "\\end{matrix}\n",
    "$$\n"
   ]
  },
  {
   "cell_type": "markdown",
   "metadata": {},
   "source": [
    "\n",
    "3D render (`PyVista`):\n",
    "$$\n",
    "\\begin{matrix}\n",
    "    &\\phantom{\\mathsf{mesh}}  \\qquad & \\phantom{\\Rightarrow}  \n",
    "                & \\mathsf{graph},\\,\\mathsf{forces} & \\qquad \\\\\n",
    "    &  &  &\\Downarrow & \\qquad   \\\\\n",
    "\\    & \\mathsf{pvmesh}  & \\Rightarrow &\\mathrm{viz.plot\\_model\\_3d}  & \\qquad  \\\\\n",
    "\\end{matrix}\n",
    "$$\n"
   ]
  },
  {
   "cell_type": "markdown",
   "metadata": {},
   "source": [
    "2D render (`MatPlotLib`)\n",
    "$$\n",
    "\\begin{matrix}\n",
    "    &\\phantom{\\mathsf{mesh}}  \\qquad & \\phantom{\\Rightarrow}  \n",
    "                & \\mathsf{graph},\\,\\mathsf{geometry},\\,\\mathsf{forces} & \\qquad \\\\\n",
    "    &  &  &\\Downarrow & \\qquad   \\\\\n",
    "    & \\phantom{\\mathsf{pvmesh}}  & \\phantom{\\Rightarrow} &\\mathrm{viz.plot\\_model\\_2d}  & \\qquad  \\\\\n",
    "\\end{matrix}\n",
    "$$"
   ]
  },
  {
   "cell_type": "markdown",
   "metadata": {},
   "source": [
    "Network graph (`NetworkX`)\n",
    "$$\n",
    "\\begin{matrix}\n",
    "    &\\phantom{\\mathsf{mesh}}  \\qquad & \\phantom{\\Rightarrow}  \n",
    "                & \\mathsf{graph} & \\qquad \\\\\n",
    "    &  &  &\\Downarrow & \\qquad   \\\\\n",
    "    & \\phantom{\\mathsf{pvmesh}}  & \\phantom{\\Rightarrow} &\\mathrm{viz.plot\\_network\\_graph} & \\qquad   \\\\\n",
    "\\end{matrix}\n",
    "$$"
   ]
  },
  {
   "cell_type": "markdown",
   "metadata": {},
   "source": [
    "## Preliminaries"
   ]
  },
  {
   "cell_type": "code",
   "execution_count": 1,
   "metadata": {},
   "outputs": [],
   "source": [
    "import os\n",
    "import numpy as np\n",
    "from collections import Counter\n",
    "import sympy as sy\n",
    "from sympy import init_printing\n",
    "init_printing(use_unicode=True, pretty_print=True, wrap_line=True)\n",
    "from sympy import (\n",
    "    Eq, Symbol, MatrixSymbol, MatAdd, Matrix, Rational, Integer,\n",
    ")\n",
    "from pprint import PrettyPrinter\n",
    "pp = PrettyPrinter(indent=4).pprint\n",
    "from cdsn.mesh import Mesh\n",
    "from cdsn.graph import Graph\n",
    "from cdsn.communities import Communities\n",
    "from cdsn.topology import Topology\n",
    "from cdsn.forces import Forces\n",
    "from cdsn.balance import Balance\n",
    "from cdsn.plot import Visualization\n",
    "from cdsn.save import create_directories, export_plots"
   ]
  },
  {
   "cell_type": "code",
   "execution_count": 2,
   "metadata": {},
   "outputs": [],
   "source": [
    "viz = Visualization(font_name=\"Arial\")"
   ]
  },
  {
   "cell_type": "markdown",
   "metadata": {},
   "source": [
    "# Analysis"
   ]
  },
  {
   "cell_type": "markdown",
   "metadata": {},
   "source": [
    "All the analysis can be carried out in one line, this this:\n",
    "\n",
    "    Balance(Forces(Topology(Communities(Graph(Mesh(name, data_path,))))))\n",
    "\n",
    "But we'll take things a bit slower."
   ]
  },
  {
   "cell_type": "markdown",
   "metadata": {},
   "source": [
    "## Load 3D data file and generate a mesh"
   ]
  },
  {
   "cell_type": "code",
   "execution_count": 3,
   "metadata": {},
   "outputs": [],
   "source": [
    "name = \"simpleStructure1_v4\"\n",
    "# name = \"standingTower1_v5\""
   ]
  },
  {
   "cell_type": "code",
   "execution_count": 4,
   "metadata": {},
   "outputs": [],
   "source": [
    "# file_type = \"Collada\"\n",
    "# file_type = \"3MF\"\n",
    "file_type = \"glTF\"\n",
    "# file_type = \"STL\""
   ]
  },
  {
   "cell_type": "code",
   "execution_count": 5,
   "metadata": {},
   "outputs": [
    {
     "data": {
      "text/plain": [
       "'../Data/Export'"
      ]
     },
     "execution_count": 5,
     "metadata": {},
     "output_type": "execute_result"
    }
   ],
   "source": [
    "data_path = os.path.join(os.pardir, \"Data\", \"Export\", )\n",
    "data_path"
   ]
  },
  {
   "cell_type": "code",
   "execution_count": 6,
   "metadata": {},
   "outputs": [
    {
     "name": "stdout",
     "output_type": "stream",
     "text": [
      "glTF primitive: 0\n",
      "glTF primitive: 1\n",
      "glTF primitive: 2\n",
      "glTF primitive: 3\n"
     ]
    },
    {
     "data": {
      "text/plain": [
       "('../Data/Export/simpleStructure1_v4.gltf',\n",
       " <trimesh.Trimesh(vertices.shape=(18, 3), faces.shape=(14, 3))>,\n",
       " {})"
      ]
     },
     "execution_count": 6,
     "metadata": {},
     "output_type": "execute_result"
    }
   ],
   "source": [
    "mesh = Mesh(name, data_path, file_type,)\n",
    "mesh.file_path_name, mesh.trimesh, mesh.trimesh.metadata"
   ]
  },
  {
   "cell_type": "markdown",
   "metadata": {},
   "source": [
    "## Convert into a graph and interpret the topology"
   ]
  },
  {
   "cell_type": "code",
   "execution_count": 7,
   "metadata": {},
   "outputs": [
    {
     "data": {
      "text/plain": [
       "(<networkx.classes.graph.Graph at 0x1052e3af0>, 14)"
      ]
     },
     "execution_count": 7,
     "metadata": {},
     "output_type": "execute_result"
    }
   ],
   "source": [
    "graph = Graph(mesh)\n",
    "graph.nxgraph, graph.n_triangles"
   ]
  },
  {
   "cell_type": "code",
   "execution_count": 8,
   "metadata": {},
   "outputs": [],
   "source": [
    "# viz.plot_network_graph(name, graph, \"kamada\", fig_size=(4,4,),)"
   ]
  },
  {
   "cell_type": "code",
   "execution_count": 9,
   "metadata": {},
   "outputs": [
    {
     "name": "stdout",
     "output_type": "stream",
     "text": [
      "{0: 'Ground', 1: 'Roof', 2: 'Column', 3: 'Force 1kN'}\n"
     ]
    }
   ],
   "source": [
    "communities = Communities(graph)\n",
    "pp(communities.d_community_info)"
   ]
  },
  {
   "cell_type": "code",
   "execution_count": 10,
   "metadata": {},
   "outputs": [],
   "source": [
    "topology = Topology(communities)"
   ]
  },
  {
   "cell_type": "code",
   "execution_count": 11,
   "metadata": {},
   "outputs": [],
   "source": [
    "# topology.d_node_communities"
   ]
  },
  {
   "cell_type": "code",
   "execution_count": 12,
   "metadata": {},
   "outputs": [
    {
     "data": {
      "text/plain": [
       "{0: (16, 17, 12)}"
      ]
     },
     "execution_count": 12,
     "metadata": {},
     "output_type": "execute_result"
    }
   ],
   "source": [
    "topology.d_appliedload_vertices"
   ]
  },
  {
   "cell_type": "code",
   "execution_count": 13,
   "metadata": {},
   "outputs": [
    {
     "data": {
      "text/plain": [
       "{0: (1, 6, 7, 8, 9, 10, 11, 12, 13), 1: (2, 8, 14, 15)}"
      ]
     },
     "execution_count": 13,
     "metadata": {},
     "output_type": "execute_result"
    }
   ],
   "source": [
    "topology.d_member_vertices"
   ]
  },
  {
   "cell_type": "markdown",
   "metadata": {},
   "source": [
    "## Identify the loads and build equations for forces & moments"
   ]
  },
  {
   "cell_type": "code",
   "execution_count": 14,
   "metadata": {},
   "outputs": [
    {
     "ename": "KeyError",
     "evalue": "(16, 17, 12)",
     "output_type": "error",
     "traceback": [
      "\u001b[0;31m---------------------------------------------------------------------------\u001b[0m",
      "\u001b[0;31mKeyError\u001b[0m                                  Traceback (most recent call last)",
      "Cell \u001b[0;32mIn[14], line 1\u001b[0m\n\u001b[0;32m----> 1\u001b[0m forces \u001b[39m=\u001b[39m Forces(topology)\n",
      "File \u001b[0;32m~/Teaching/ConceptualDesign/Packages/cdsn/forces.py:46\u001b[0m, in \u001b[0;36mForces.__init__\u001b[0;34m(self, topology)\u001b[0m\n\u001b[1;32m     44\u001b[0m \u001b[39mself\u001b[39m\u001b[39m.\u001b[39mtopology \u001b[39m=\u001b[39m topology \n\u001b[1;32m     45\u001b[0m \u001b[39mself\u001b[39m\u001b[39m.\u001b[39mcompute_appliedloads_forcevectors()\n\u001b[0;32m---> 46\u001b[0m \u001b[39mself\u001b[39;49m\u001b[39m.\u001b[39;49mfind_appliedloads_triangles()\n",
      "File \u001b[0;32m~/Teaching/ConceptualDesign/Packages/cdsn/forces.py:96\u001b[0m, in \u001b[0;36mForces.find_appliedloads_triangles\u001b[0;34m(self)\u001b[0m\n\u001b[1;32m     88\u001b[0m \u001b[39m\u001b[39m\u001b[39m\"\"\"\u001b[39;00m\n\u001b[1;32m     89\u001b[0m \u001b[39mXXX\u001b[39;00m\n\u001b[1;32m     90\u001b[0m \n\u001b[0;32m   (...)\u001b[0m\n\u001b[1;32m     93\u001b[0m \u001b[39m        XXX\u001b[39;00m\n\u001b[1;32m     94\u001b[0m \u001b[39m\"\"\"\u001b[39;00m\n\u001b[1;32m     95\u001b[0m graph \u001b[39m=\u001b[39m \u001b[39mself\u001b[39m\u001b[39m.\u001b[39mtopology\u001b[39m.\u001b[39mcommunities\u001b[39m.\u001b[39mgraph\n\u001b[0;32m---> 96\u001b[0m \u001b[39mself\u001b[39m\u001b[39m.\u001b[39md_appliedload_triangle: Dict \u001b[39m=\u001b[39m {\n\u001b[1;32m     97\u001b[0m     appliedload_: graph\u001b[39m.\u001b[39md_trivertices_triangle[trivertices_]\n\u001b[1;32m     98\u001b[0m     \u001b[39mfor\u001b[39;00m appliedload_,trivertices_ \u001b[39min\u001b[39;00m \u001b[39mself\u001b[39m\u001b[39m.\u001b[39mtopology\u001b[39m.\u001b[39md_appliedload_vertices\u001b[39m.\u001b[39mitems()\n\u001b[1;32m     99\u001b[0m }\n\u001b[1;32m    100\u001b[0m \u001b[39mself\u001b[39m\u001b[39m.\u001b[39md_triangle_appliedload: Dict \u001b[39m=\u001b[39m {\n\u001b[1;32m    101\u001b[0m     triangle_: appliedload_\n\u001b[1;32m    102\u001b[0m     \u001b[39mfor\u001b[39;00m appliedload_,triangle_ \u001b[39min\u001b[39;00m \u001b[39mself\u001b[39m\u001b[39m.\u001b[39md_appliedload_triangle\u001b[39m.\u001b[39mitems()\n\u001b[1;32m    103\u001b[0m }\n",
      "File \u001b[0;32m~/Teaching/ConceptualDesign/Packages/cdsn/forces.py:97\u001b[0m, in \u001b[0;36m<dictcomp>\u001b[0;34m(.0)\u001b[0m\n\u001b[1;32m     88\u001b[0m \u001b[39m\u001b[39m\u001b[39m\"\"\"\u001b[39;00m\n\u001b[1;32m     89\u001b[0m \u001b[39mXXX\u001b[39;00m\n\u001b[1;32m     90\u001b[0m \n\u001b[0;32m   (...)\u001b[0m\n\u001b[1;32m     93\u001b[0m \u001b[39m        XXX\u001b[39;00m\n\u001b[1;32m     94\u001b[0m \u001b[39m\"\"\"\u001b[39;00m\n\u001b[1;32m     95\u001b[0m graph \u001b[39m=\u001b[39m \u001b[39mself\u001b[39m\u001b[39m.\u001b[39mtopology\u001b[39m.\u001b[39mcommunities\u001b[39m.\u001b[39mgraph\n\u001b[1;32m     96\u001b[0m \u001b[39mself\u001b[39m\u001b[39m.\u001b[39md_appliedload_triangle: Dict \u001b[39m=\u001b[39m {\n\u001b[0;32m---> 97\u001b[0m     appliedload_: graph\u001b[39m.\u001b[39;49md_trivertices_triangle[trivertices_]\n\u001b[1;32m     98\u001b[0m     \u001b[39mfor\u001b[39;00m appliedload_,trivertices_ \u001b[39min\u001b[39;00m \u001b[39mself\u001b[39m\u001b[39m.\u001b[39mtopology\u001b[39m.\u001b[39md_appliedload_vertices\u001b[39m.\u001b[39mitems()\n\u001b[1;32m     99\u001b[0m }\n\u001b[1;32m    100\u001b[0m \u001b[39mself\u001b[39m\u001b[39m.\u001b[39md_triangle_appliedload: Dict \u001b[39m=\u001b[39m {\n\u001b[1;32m    101\u001b[0m     triangle_: appliedload_\n\u001b[1;32m    102\u001b[0m     \u001b[39mfor\u001b[39;00m appliedload_,triangle_ \u001b[39min\u001b[39;00m \u001b[39mself\u001b[39m\u001b[39m.\u001b[39md_appliedload_triangle\u001b[39m.\u001b[39mitems()\n\u001b[1;32m    103\u001b[0m }\n",
      "\u001b[0;31mKeyError\u001b[0m: (16, 17, 12)"
     ]
    }
   ],
   "source": [
    "forces = Forces(topology)"
   ]
  },
  {
   "cell_type": "code",
   "execution_count": null,
   "metadata": {},
   "outputs": [],
   "source": [
    "balance = Balance(forces)"
   ]
  },
  {
   "cell_type": "code",
   "execution_count": null,
   "metadata": {},
   "outputs": [],
   "source": [
    "Matrix([\n",
    "    ([Integer(node_)]+[fvc_ for fvc_ in balance.d_node_fvc[node_].values()] )\n",
    "    for node_ in balance.d_node_fvc\n",
    " ])"
   ]
  },
  {
   "cell_type": "code",
   "execution_count": null,
   "metadata": {},
   "outputs": [],
   "source": [
    "[\n",
    "    Matrix([(Integer(member_),fxy_[\"X\"],fxy_[\"Y\"]) for fxy_ in balance.d_member_fvc[member_]])\n",
    "    for member_,fvc_ in balance.d_member_fvc.items()\n",
    "]"
   ]
  },
  {
   "cell_type": "code",
   "execution_count": null,
   "metadata": {},
   "outputs": [],
   "source": [
    "# { vertex_: np.round(vpoints_,3) for vertex_,vpoints_ in graph.d_vertex_vpoints.items() }"
   ]
  },
  {
   "cell_type": "code",
   "execution_count": null,
   "metadata": {},
   "outputs": [],
   "source": [
    "balance.d_member_forceinfo"
   ]
  },
  {
   "cell_type": "code",
   "execution_count": null,
   "metadata": {},
   "outputs": [],
   "source": [
    "balance.d_member_forcemoment"
   ]
  },
  {
   "cell_type": "markdown",
   "metadata": {},
   "source": [
    "# Visualization"
   ]
  },
  {
   "cell_type": "markdown",
   "metadata": {},
   "source": [
    "To view these structures in 3D online, go to:\n",
    "   - [Simple structure #1](https://htmlpreview.github.io/?https://github.com/cstarkjp/ConceptualDesign/blob/main/Plots/simpleStructure1.html)\n",
    "   - [Standing tower #1](https://htmlpreview.github.io/?https://github.com/cstarkjp/ConceptualDesign/blob/main/Plots/standingTower1.html)"
   ]
  },
  {
   "cell_type": "markdown",
   "metadata": {},
   "source": [
    "Need to cross-ref applied load triangles to actual graph and pvmesh triangles – if we want to label the load triangles in 3D."
   ]
  },
  {
   "cell_type": "code",
   "execution_count": 15,
   "metadata": {},
   "outputs": [],
   "source": [
    "pvmesh = viz.build_pvmesh(topology)"
   ]
  },
  {
   "cell_type": "code",
   "execution_count": 16,
   "metadata": {},
   "outputs": [
    {
     "ename": "NameError",
     "evalue": "name 'forces' is not defined",
     "output_type": "error",
     "traceback": [
      "\u001b[0;31m---------------------------------------------------------------------------\u001b[0m",
      "\u001b[0;31mNameError\u001b[0m                                 Traceback (most recent call last)",
      "Cell \u001b[0;32mIn[16], line 4\u001b[0m\n\u001b[1;32m      1\u001b[0m plotter \u001b[39m=\u001b[39m viz\u001b[39m.\u001b[39mplot_model_3d(\n\u001b[1;32m      2\u001b[0m     pvmesh,\n\u001b[1;32m      3\u001b[0m     graph, \n\u001b[0;32m----> 4\u001b[0m     forces,\n\u001b[1;32m      5\u001b[0m     backend\u001b[39m=\u001b[39m\u001b[39m\"\u001b[39m\u001b[39mtrame\u001b[39m\u001b[39m\"\u001b[39m, \n\u001b[1;32m      6\u001b[0m     do_appliedload_labels\u001b[39m=\u001b[39m\u001b[39mTrue\u001b[39;00m,\n\u001b[1;32m      7\u001b[0m     font_size\u001b[39m=\u001b[39m\u001b[39m15\u001b[39m,\n\u001b[1;32m      8\u001b[0m )\n",
      "\u001b[0;31mNameError\u001b[0m: name 'forces' is not defined"
     ]
    }
   ],
   "source": [
    "plotter = viz.plot_model_3d(\n",
    "    pvmesh,\n",
    "    graph, \n",
    "    forces,\n",
    "    backend=\"trame\", \n",
    "    do_appliedload_labels=True,\n",
    "    font_size=15,\n",
    ")"
   ]
  },
  {
   "cell_type": "code",
   "execution_count": null,
   "metadata": {},
   "outputs": [],
   "source": [
    "viz.plot_model_2D(name, graph, communities, topology)"
   ]
  },
  {
   "cell_type": "markdown",
   "metadata": {},
   "source": [
    "# Export"
   ]
  },
  {
   "cell_type": "code",
   "execution_count": null,
   "metadata": {},
   "outputs": [],
   "source": [
    "plots_dirname = \"Plots\"\n",
    "plots_path = create_directories((\"..\",), plots_dirname)\n",
    "for gr_ in [viz]:    \n",
    "    export_plots( gr_.fdict, plots_path, file_types=[\"jpg\"], dpi=100 )"
   ]
  },
  {
   "cell_type": "code",
   "execution_count": null,
   "metadata": {},
   "outputs": [],
   "source": [
    "plotter.export_html(os.path.join(plots_path, f\"{name}.html\"))"
   ]
  }
 ],
 "metadata": {
  "kernelspec": {
   "display_name": "ConceptualDesign",
   "language": "python",
   "name": "python3"
  },
  "language_info": {
   "codemirror_mode": {
    "name": "ipython",
    "version": 3
   },
   "file_extension": ".py",
   "mimetype": "text/x-python",
   "name": "python",
   "nbconvert_exporter": "python",
   "pygments_lexer": "ipython3",
   "version": "3.10.0"
  },
  "orig_nbformat": 4,
  "vscode": {
   "interpreter": {
    "hash": "7bfcb7aeac105b5e2ca8f9bdb6133c47b06d11da3f80f9e78bede304b4240367"
   }
  }
 },
 "nbformat": 4,
 "nbformat_minor": 2
}
