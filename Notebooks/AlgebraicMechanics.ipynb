{
 "cells": [
  {
   "cell_type": "markdown",
   "metadata": {},
   "source": [
    "# Algebraic mechanics of connected rigid bodies\n",
    "\n",
    "**Hervé Capart**\n",
    "\n",
    "**Fall 2023**\n",
    "\n",
    "Adapted by CPS."
   ]
  },
  {
   "cell_type": "markdown",
   "metadata": {},
   "source": [
    "## Structure as a graph"
   ]
  },
  {
   "cell_type": "markdown",
   "metadata": {},
   "source": [
    "Consider a mechanical structure (building) represented by a raw graph $\\mathcal{B}$ consisting of raw vertices $u \\in \\mathcal{U}$ with positions $p(u)$ and a topology in which each vertex is connected to at least two other vertices. \n",
    "We use the qualifier \"raw\" for the graph and its vertices, because they need to be restructured if we are to allow the mechanical structure they represent to deform.\n",
    "\n",
    "Within this graph $\\mathcal{B}$, identify and split off its sub-graphs $s_i \\in \\mathcal{S}$, where each sub-graph is defined as the union of the sets of raw vertices belonging to loops of three that share at least one loop edge. \n",
    "\n",
    "These sub-graphs need to be further categorized into members, applied loads, and ground.\n",
    "For each sub-graph whose vertex count is $\\#u(s_i)=3$ (i.e., a triangle, for 2D structures), assume that it represents an applied load: label it $l_i \\in \\mathcal{L}$.\n",
    "Find the sub-graph with the largest area, and assume that it represents ground; label it $g = \\mathcal{G}$.\n",
    "The remaining sub-graphs $S_{\\backslash\\mathcal{L}\\backslash\\mathcal{G}}$ are called members and are labeled $m_j \\in \\mathcal{M}$.\n",
    "\n",
    "By splitting graph $\\mathcal{B}$ into the set of sub-graphs $\\mathcal{S}$, a new set of vertices $v_i \\in \\mathcal{V}$ is formed.\n",
    "Find each of these vertices that share the same geometric position as at least one other vertex, i.e., locate all the vertices at which the graph was broken into sub-graphs.\n",
    "Usually groups of overlapping vertices will come in pairs (where a split into two sub-graphs took place), but there may be more per group if three or more sub-graphs were split at the same raw vertex. From now on, all references to vertices will mean to elements of the set $\\mathcal{V}$ and not to the raw set.\n",
    "\n",
    "Label the overlapping vertices as $w_j \\in \\mathcal{W}$, and call them \"connecting vertices.\"\n",
    "Geometrically, these connecting vertices all lie at the same position as the original shared raw vertex. \n",
    "The set of connecting vertices is a subset of all vertices: $w_j \\subset v_i$ or $\\mathcal{W} \\subset \\mathcal{V}$.\n",
    "\n",
    "At each connecting vertex $w_j$, create a linking node and label it as $n_k \\in \\mathcal{N}$. \n",
    "Now join the connecting vertices to this linking node; each of these connections is labeled $c_{jk} \\in \\mathcal{C}$ and consists of pairs $(w_j, n_k)$ of connecting vertices and nodes.\n",
    "Topologically, each node lies between connecting vertices, but shares the same geometric position as them (for now).\n",
    "\n",
    "Denote the respective numbers of applied loads, members, vertices, connecting vertices, nodes, and connections as $\\#l$, $\\#{m}$, $\\#v$, $\\#w$, $\\#n$, and $\\#c$."
   ]
  },
  {
   "cell_type": "markdown",
   "metadata": {},
   "source": [
    "\n",
    "Some clarifications. The set of all vertices and nodes is \n",
    "\\begin{equation}\n",
    "    \\mathcal{V} \\cup \\mathcal{N} = \\bigcup_{j} v_j \\,\\cup \\,\\bigcup_{k} n_k \n",
    "\\end{equation}\n",
    "The subgraphs categorized as the ground, applied loads, and members, together comprise the set of all sub-graphs of the structure\n",
    "\\begin{equation}\n",
    "    \\mathcal{S} = \\mathcal{G} \\cap \\mathcal{M} \\cap \\mathcal{L}\n",
    "\\end{equation}\n",
    "Each member has a set of vertices which we can write as\n",
    "\\begin{equation}\n",
    "    \\mathcal{V}_m  = \\bigcup_{j} v_j(m)\n",
    "\\end{equation}\n",
    "Since we split the initial graph members into disjoint sets of vertices,\n",
    "\\begin{equation}\n",
    "    \\mathcal{V}_{m_i}  \\cap \\mathcal{V}_{m_j} = \\varnothing  \\quad\\mathrm{for}\\quad i \\neq j\n",
    "\\end{equation}\n"
   ]
  },
  {
   "cell_type": "markdown",
   "metadata": {},
   "source": [
    "## System equilibrium"
   ]
  },
  {
   "cell_type": "markdown",
   "metadata": {},
   "source": [
    "Consider the initially unloaded geometry. The location of each connecting vertex coincides with that of its linking node\n",
    "\\begin{equation}\n",
    "    \\forall \\,i,k \\,:\\,\\,\n",
    "    \\exists\\,\\, c_{ik}\\,,\\quad \n",
    "    \\mathbf{p}_0(w_i) = \\mathbf{p}_0(n_k) \n",
    "\\end{equation}\n",
    "which means that all vertices that share a linking node have the same position\n",
    "\\begin{equation}\n",
    "    \\forall \\,i,j,k \\,:\\,\\,\n",
    "    \\exists\\,\\, c_{ik}, c_{jk} \\,,\\quad \n",
    "    \\mathbf{p}_0(w_i) = \\mathbf{p}_0(w_j) \n",
    "\\end{equation}\n",
    "which was how the connecting vertices, connections and nodes were defined in any case."
   ]
  },
  {
   "cell_type": "markdown",
   "metadata": {},
   "source": [
    "Now let's go beyond the initial geometry by applying the loads and examining the consequent displacements and rotations of the members.\n",
    "Force balance for each member $m_i$ requires the sum of forces at each connecting vertex to be the zero vector\n",
    "\\begin{equation}\n",
    "    \\forall \\,\\, j,k\\,:\\,\\, \n",
    "    \\exists\\,\\,w_{j} \\in \\mathcal{V}_{m_i}  ,\\,\\,\n",
    "    % \\exists\\,\\,\n",
    "    c_{jk} \\,:\\quad\n",
    "    \\sum_{j,k}   \\mathbf{f}_{jk} \n",
    "    = 0  \n",
    "\\end{equation}\n",
    "\n",
    "Assuming small displacements, make the approximation \n",
    "\\begin{equation}\n",
    "    \\mathbf{p}(w_j)\n",
    "    \\,\\,\\approx \\,\\,\n",
    "    \\mathbf{p}_0(w_j)\n",
    "\\end{equation}\n",
    "so that the moment balance for each member $m_i$ requires\n",
    "\\begin{equation}\n",
    "    \\forall \\,\\, j,k\\,:\\,\\, \n",
    "    \\exists\\,\\,w_{j} \\in \\mathcal{V}_{m_i}  ,\\,\\,\n",
    "    % \\exists\\,\\,  \n",
    "    c_{jk} \\,:\\quad\n",
    "    \\sum_{j,k} \\mathbf{p}(w_j) \\times \\mathbf{f}_{jk}\n",
    "    = \\mathbf{0}\n",
    "\\end{equation}\n"
   ]
  },
  {
   "cell_type": "markdown",
   "metadata": {},
   "source": [
    "Let's convert to matrix form. First, write out the components of the force balance equation for the whole structure (all members)\n",
    "\\begin{align}\n",
    "    \\sum_{j,k} {f}_{jk}^x &= 0  \\qquad\\qquad \\\\\n",
    "    \\sum_{j,k} {f}_{jk}^y &= 0   \\\\\n",
    "    \\sum_{j,k} \\left( - {p}^y(w_j) {f}_{jk}^x + {p}^x(w_j) {f}_{jk}^y  \\right) &= 0\n",
    "\\end{align}"
   ]
  },
  {
   "cell_type": "markdown",
   "metadata": {},
   "source": [
    "In concise form, we have \n",
    "\\begin{equation}\n",
    "    \\mathsf{M} \\mathsf{F} = \\mathsf{0}\n",
    "\\end{equation}\n",
    "where $\\mathsf{M}$ is the force-moment balance matrix with $3\\#m$ rows by $2\\#w_{\\mathcal{M}} = 2\\#c_{\\mathcal{M}}$ columns, and  $\\mathsf{F}$ is the (induced) force column vector with $2\\#c_{\\mathcal{M}}$ rows. The zero column vector on the RHS has $3\\#m$ rows."
   ]
  },
  {
   "cell_type": "markdown",
   "metadata": {},
   "source": [
    "Writing the summations out, as a demonstration the matrix representation of the force-moment (at connecting vertices) might look like this (for a particular graph):\n",
    "\\begin{equation}\n",
    "    \\begin{matrix}\n",
    "    \\quad m_1 \n",
    "    \\left\\{\n",
    "    \\phantom{\\begin{bmatrix}\n",
    "         \\\\\n",
    "         \\\\\n",
    "         \\\\[2mm]\n",
    "    \\end{bmatrix}}\n",
    "    \\right.\n",
    "    \\\\\n",
    "    \\quad m_2 \n",
    "    \\left\\{\n",
    "    \\phantom{\\begin{bmatrix}\n",
    "         \\\\\n",
    "         \\\\\n",
    "         \\\\[2mm]\n",
    "    \\end{bmatrix}}\n",
    "    \\right.\n",
    "    \\\\\n",
    "    \\quad m_3\n",
    "    \\left\\{\n",
    "    \\phantom{\\begin{bmatrix}\n",
    "         \\\\\n",
    "         \\\\\n",
    "         \\\\[2mm]\n",
    "    \\end{bmatrix}}\n",
    "    \\right.\n",
    "    \\\\\n",
    "    m_4,\\dots\n",
    "    \\left\\{\n",
    "    \\phantom{\\begin{bmatrix}\n",
    "         \\vdots\n",
    "    \\end{bmatrix}}\n",
    "    \\right.\n",
    "    \\end{matrix}\n",
    "    \\!\\!\\!\\!\\!\\!\\!\n",
    "    \\left[\n",
    "    \\,\\,\n",
    "    \\begin{matrix}\n",
    "        1 & 0  \\\\\n",
    "        0 & 1  \\\\\n",
    "        -{p}^y(w_1) & {p}^x(w_1)    \\\\[2mm]\n",
    "        % \n",
    "        0 & 0  \\\\\n",
    "        0 & 0  \\\\\n",
    "        0 & 0  \\\\[2mm]\n",
    "        % \n",
    "        0 & 0  \\\\\n",
    "        0 & 0  \\\\\n",
    "        0 & 0   \\\\[2mm]\n",
    "        % \n",
    "        & \\vdots &  \\\\\n",
    "    \\end{matrix}\n",
    "    \\quad\n",
    "    \\begin{matrix}\n",
    "        1 & 0  \\\\\n",
    "        0 & 1  \\\\\n",
    "        -{p}^y(w_2) & {p}^x(w_2)   \\\\[2mm]\n",
    "        % \n",
    "        0 & 0  \\\\\n",
    "        0 & 0  \\\\\n",
    "        0 & 0  \\\\[2mm]\n",
    "        % \n",
    "        0 & 0  \\\\\n",
    "        0 & 0  \\\\\n",
    "        0 & 0  \\\\[2mm]\n",
    "        % \n",
    "        \\vdots & \\\\\n",
    "    \\end{matrix}\n",
    "    \\qquad\n",
    "    \\begin{matrix}\\\n",
    "        0 & 0  \\\\\n",
    "        0 & 0  \\\\\n",
    "        0 & 0  \\\\[2mm]\n",
    "        % \n",
    "        1 & 0  \\\\\n",
    "        0 & 1  \\\\\n",
    "        -{p}^y(w_3) & {p}^x(w_3)   \\\\[2mm]\n",
    "        % \n",
    "        0 & 0  \\\\\n",
    "        0 & 0  \\\\\n",
    "        0 & 0  \\\\[2mm]\n",
    "        % \n",
    "        \\vdots & \\\\\n",
    "    \\end{matrix}\n",
    "    \\qquad\n",
    "    \\begin{matrix}\n",
    "        \\\\\n",
    "        \\dots \\\\\n",
    "        \\\\[2mm]\n",
    "        % \n",
    "        \\\\\n",
    "        \\dots \\\\\n",
    "        \\\\[2mm]\n",
    "        % \n",
    "        \\\\\n",
    "        \\dots \\\\\n",
    "        \\\\[2mm]\n",
    "        % \n",
    "        \\ddots \\\\\n",
    "    \\end{matrix}\n",
    "    \\quad\n",
    "    \\right]\n",
    "    \\begin{bmatrix}\n",
    "        {f}_{11}^x \\\\\n",
    "        {f}_{11}^y \\\\[2mm]\n",
    "        {f}_{21}^x \\\\\n",
    "        {f}_{21}^y \\\\[2mm]\n",
    "        {f}_{32}^x \\\\\n",
    "        {f}_{32}^y \\\\[2mm]\n",
    "        \\vdots\n",
    "    \\end{bmatrix}\n",
    "    =\n",
    "    \\begin{bmatrix}\n",
    "        0 \\\\\n",
    "        0 \\\\[2mm]\n",
    "        0 \\\\\n",
    "        0 \\\\[2mm]\n",
    "        0 \\\\\n",
    "        0 \\\\[2mm]\n",
    "        \\vdots\n",
    "    \\end{bmatrix}\n",
    "\\end{equation}"
   ]
  },
  {
   "cell_type": "markdown",
   "metadata": {},
   "source": [
    "Finally we seek force balance at all the nodes; this requires, at each node $n_k$, that the sum of forces $\\mathbf{f}_{ik}$ acting along all connections $c_{ik}$ to vertices $w_{i}$ in members $m$, plus the applied forces $\\mathbf{f}^{\\mathrm{load}}_{jk}$ acting all connections $c_{jk}$ to vertices $w_{j}$ in applied loads $l$ be equal to zero:\n",
    "\\begin{equation}\n",
    "    \\forall \\,\\, i\\,,j\\,:\\,\\, \n",
    "    \\exists\\,\\,w_{i} \\in \\mathcal{V}_{m}  \\,,\\,\n",
    "    c_{ik} \\,,\\,\n",
    "    \\,w_{j} \\in \\mathcal{V}_{l}  \\,,\\,\n",
    "    c_{jk} \\,\\,\\,\\,\\,\n",
    "    \\quad\n",
    "    -\\sum_{i,k} \\mathbf{f}_{ik} \n",
    "    -\\sum_{j,k} \\mathbf{f}^{\\mathrm{load}}_{jk} \n",
    "    = 0  \n",
    "\\end{equation}"
   ]
  },
  {
   "cell_type": "markdown",
   "metadata": {},
   "source": [
    "It's helpful later to have the load vectors $\\mathbf{f}^{\\mathrm{load}}$ split into their magnitude $a$ and unit vector components, \n",
    "i.e., $\\mathbf{f}^{\\mathrm{load}}:=a\\begin{bmatrix}\\cos\\theta \\\\ \\sin\\theta\\end{bmatrix}$:\n",
    "\\begin{equation}\n",
    "    \\forall \\,\\,c_{ik} \\in c_{\\mathcal{M}}\n",
    "    \\,,\\, c_{jk} \\in c_{\\mathcal{L}}\n",
    "     \\,:\\qquad\n",
    "    -\\sum_{i,k} f^x_{ik} \n",
    "    = \n",
    "    \\sum_{j,k} a_{jk} \\cos\\theta_{jk} \\,\\,,\\quad\n",
    "    -\\sum_{i,k} f^y_{ik} \n",
    "    = \n",
    "    \\sum_{j,k} a_{jk} \\sin\\theta_{jk}\n",
    "\\end{equation}"
   ]
  },
  {
   "cell_type": "markdown",
   "metadata": {},
   "source": [
    "The matrix form for this is\n",
    "\\begin{equation}\n",
    "    -\\mathsf{N} \\mathsf{F} = \\mathsf{L}\\mathsf{A}\n",
    "\\end{equation}\n",
    "where $\\mathsf{N}$ is the node force-balance matrix with $2\\#n$ rows (2 equations per node) by $2\\#c_{\\mathcal{M}}$ columns ($x$ and $y$ components per member connection), \n",
    "$\\mathsf{F}$ is the connection force column vector with $2\\#c_{\\mathcal{M}}$ rows, \n",
    "$\\mathsf{L}$ is the load direction matrix with $3\\#m+2\\#n$ rows by $\\#c_{\\mathcal{L}}= \\#l$ columns, \n",
    "and $\\mathsf{A}$ is the applied load magnitude column vector with $\\#l$ rows.\n",
    "This equation generates a column vector with $2\\#n$ rows."
   ]
  },
  {
   "cell_type": "markdown",
   "metadata": {},
   "source": [
    "Stacking the member force-moment balance matrix $\\mathsf{M}$ and node force balance matrix $\\mathsf{N}$  gives\n",
    "\n",
    "\\begin{equation}\n",
    "    \\begin{bmatrix}\n",
    "        \\mathsf{M} \\\\ -\\mathsf{N}\n",
    "    \\end{bmatrix}\n",
    "    \\mathsf{F}\n",
    "    =\n",
    "    \\mathsf{S}\\mathsf{F}\n",
    "    =\n",
    "    \\begin{bmatrix}\n",
    "        \\mathsf{0} \\\\ \\mathsf{L}\\mathsf{A}\n",
    "    \\end{bmatrix}\n",
    "\\end{equation}\n",
    "\n",
    "where $\\mathsf{S}$ is the system equilibrium matrix with $3\\#m+2\\#n$ rows by $2\\#c_{\\mathcal{M}}$ columns.\n",
    "Therefore this equation generates a column vector with $3\\#m+2\\#n$ rows."
   ]
  },
  {
   "cell_type": "markdown",
   "metadata": {},
   "source": [
    "## Relation between loads and displacements"
   ]
  },
  {
   "cell_type": "markdown",
   "metadata": {},
   "source": [
    "The displacements of each connecting vertex $w_j$ are\n",
    "\\begin{align}\n",
    "    \\Delta{p}^x(w_j) = \\Delta{p}^x(m_i) - p^y(w_j)\\Delta{\\theta}(m_i)\n",
    "    \\\\\n",
    "    \\Delta{p}^y(w_j) = \\Delta{p}^y(m_i) + p^x(w_j)\\Delta{\\theta}(m_i)\n",
    "\\end{align}\n",
    "where $\\Delta{\\mathbf{p}}(m_i)$ and $\\Delta{\\theta}(m_i)$ are respectively the translational and rotational displacements of each member $m_i$, both assumed small."
   ]
  },
  {
   "cell_type": "markdown",
   "metadata": {},
   "source": [
    "For the springs that connect vertices $w_j$ to nodes $n_k$, their zero-length elongation components are:\n",
    "\\begin{align}\n",
    "    e^x_{jk} = \\Delta{p}^x(w_j) - \\Delta{p}^x(n_k)\n",
    "    \\\\\n",
    "    e^y_{jk} = \\Delta{p}^y(w_j) - \\Delta{p}^y(n_k)\n",
    "\\end{align}\n",
    "which expands to \n",
    "\\begin{align}\n",
    "    e^x_{jk} = \\Delta{p}^x(m_i) - p^y(w_j)\\Delta{\\theta}(m_i) - \\Delta{p}^x(n_k)\n",
    "    \\\\\n",
    "    e^y_{jk} = \\Delta{p}^y(m_i) + p^x(w_j)\\Delta{\\theta}(m_i) - \\Delta{p}^y(n_k)\n",
    "\\end{align}"
   ]
  },
  {
   "cell_type": "markdown",
   "metadata": {},
   "source": [
    "Writing this in matrix form, with $\\mathsf{\\Delta{P}}_{\\mathcal{M}}$ representing the member displacements (translational and rotational), and $\\mathsf{\\Delta{P}}_{\\mathcal{N}}$ representing the node displacements (translational only), we have:\n",
    "\\begin{equation}\n",
    "    \\mathsf{E} \n",
    "    =\n",
    "    \\begin{bmatrix}\n",
    "        \\mathsf{M}^T & \\!\\!-\\mathsf{N}^T\n",
    "    \\end{bmatrix}\n",
    "    \\begin{bmatrix}\n",
    "        \\mathsf{\\Delta{P}}_{\\mathcal{M}} \\\\ \\mathsf{\\Delta{P}}_{\\mathcal{N}}\n",
    "    \\end{bmatrix}\n",
    "    =\n",
    "    \\mathsf{S}^T \\mathsf{\\Delta{P}}\n",
    "\\end{equation}\n",
    "where $\\mathsf{S}^T = \\begin{bmatrix} \\mathsf{M}^T & \\!\\!-\\mathsf{N}^T \\end{bmatrix}$ has the shape $2\\#c_{\\mathcal{M}}$ rows by $3\\#m+2\\#n$ columns, and system displacement column vector $\\mathsf{\\Delta{P}}$ has $3\\#m+2\\#n$ rows. "
   ]
  },
  {
   "cell_type": "markdown",
   "metadata": {},
   "source": [
    "\n",
    "To see why this works, let's examine the matrix $\\mathsf{M}^T$ given in the expanded example above together with a putative instance of $-\\mathsf{N}^T$. \n",
    "\n",
    "In this example, the first row of $\\begin{bmatrix} \\mathsf{M}^T & \\!\\!\\! -\\mathsf{N}^T \\end{bmatrix}$ has entries $1$, $0$, and $-{p}^y(w_1)$ contributed by connecting vertex $w_1$ in member $m_1$, followed perhaps by an entry pair of $-1, 0$ contributed by $n_1$ if that node is connected to vertex $w_1$. \n",
    "These elements combine with the corresponding components of the system displacement vector $\\Delta{p}^x(m_1)$, $\\Delta{p}^y(m_1)$, $\\Delta{\\theta}(m_1)$, $\\Delta{p}^x(n_1)$, and $\\Delta{p}^y(n_1)$ to give the first element of $\\mathsf{E}$, which is \n",
    "$e^x_{11} = \\Delta{p}^x(m_1) - p^y(w_1)\\Delta{\\theta}(m_1) - \\Delta{p}^x(n_1)$.\n",
    "\n",
    "The second row  has entries $0$, $1$, and $+{p}^x(w_1)$, followed in this case by a reversed entry pair of $0, -1$ contributed by $n_1$. \n",
    "These elements combine with the corresponding components of the system displacement vector $\\Delta{p}^x(m_1)$, $\\Delta{p}^y(m_1)$, $\\Delta{\\theta}(m_1)$, $\\Delta{p}^x(n_1)$, and $\\Delta{p}^y(n_1)$ with a different result, giving the second element of $\\mathsf{E}$, which is $e^y_{11} = \\Delta{p}^y(m_1) + p^x(w_1)\\Delta{\\theta}(m_1) - \\Delta{p}^y(n_1)$."
   ]
  },
  {
   "cell_type": "markdown",
   "metadata": {},
   "source": [
    "Assuming Hooke's Law applies to the zero-length springs, each connection force $\\mathbf{f}_{jk}$ is related to its extension $\\mathbf{e}_{jk}$ through the spring constant $k_{jk}$ of the connection; writing this component-wise we have:\n",
    "\\begin{equation}\n",
    "    {f}^x_{jk} = k_{jk} {e}^x_{jk}, \\quad\n",
    "    {f}^y_{jk} = k_{jk} {e}^y_{jk}\n",
    "\\end{equation}\n",
    "which can be written in matrix form as\n",
    "\\begin{equation}\n",
    "    \\mathsf{F} = \\mathsf{k}\\mathsf{E}\n",
    "\\end{equation}\n",
    "where $\\mathsf{k}$ is a diagonal matrix of size $2\\#c_{\\mathcal{M}} \\times 2\\#c_{\\mathcal{M}}$."
   ]
  },
  {
   "cell_type": "markdown",
   "metadata": {},
   "source": [
    "Combining the key matrix equations so far gives\n",
    "\\begin{equation}\n",
    "    \\mathsf{S} \\mathsf{F}\n",
    "    = \n",
    "    \\mathsf{S} \\mathsf{k} \\mathsf{E}\n",
    "    = \n",
    "    \\mathsf{S} \\mathsf{k} \\mathsf{S}^T \\mathsf{\\Delta{P}}\n",
    "    = \n",
    "    \\mathsf{K} \\mathsf{\\Delta{P}}   \n",
    "    = \n",
    "    \\begin{bmatrix}\n",
    "        \\mathsf{0} \\\\ \\mathsf{L}\\mathsf{A}\n",
    "    \\end{bmatrix}  \n",
    "\\end{equation}\n",
    "where $\\mathsf{K} = \\mathsf{S} \\mathsf{k} \\mathsf{S}^T$ is known as the stiffness matrix. By construction $\\mathsf{K}$ must be square and of size $(3\\#m+2\\#n) \\times (3\\#m+2\\#n)$.\n",
    "\n",
    "It is tempting to label the applied load column vector as: $\\mathsf{F}^{\\mathsf{all}} = \\begin{bmatrix} \\mathsf{0} \\\\ \\mathsf{L}\\mathsf{A} \\end{bmatrix}$."
   ]
  },
  {
   "cell_type": "markdown",
   "metadata": {},
   "source": [
    "## Recap"
   ]
  },
  {
   "cell_type": "markdown",
   "metadata": {},
   "source": [
    "\n",
    "\n",
    "  - the connection vertex force-moment and node force balance matrices $\\mathsf{M}$ and $\\mathsf{N}$ stack to form the system equilibrium matrix $\\mathsf{S}$\n",
    "  - the system equilibrium matrix $\\mathsf{S}$ acts on the connection force vector $\\mathsf{F}$ to form the applied load column vector, which we write in stacked split form $\\begin{bmatrix} \\mathsf{0} \\\\ \\mathsf{L}\\mathsf{A} \\end{bmatrix}$\n",
    "  - the member displacements vector $\\mathsf{\\Delta{P}}_{\\mathcal{M}}$ and node displacements vector $\\mathsf{\\Delta{P}}_{\\mathcal{N}}$ stack to form the system displacement vector $\\mathsf{\\Delta{P}}$\n",
    "  - the spring elongation vector $\\mathsf{E}$ is geometrically determined by the transpose of the system equilibrium matrix $\\mathsf{S}$ acting on the system displacement vector $\\mathsf{\\Delta{P}}$\n",
    "  - the connection force vector  $\\mathsf{F}$ is mechanically determined by the product of the spring constants matrix $\\mathsf{k}$ and the spring elongation vector $\\mathsf{E}$\n",
    "  - the stiffness matrix $\\mathsf{K}$ is defined by the system equilibrium matrix $\\mathsf{S}$ pre- and post-multiplying the diagonal spring constants matrix $\\mathsf{k}$ \n",
    "  - combining the above, we find that the stiffness matrix $\\mathsf{K}$ acting on the system displacement vector $\\mathsf{\\Delta{P}}$ gives the applied load column vector $\\begin{bmatrix} \\mathsf{0} \\\\ \\mathsf{L}\\mathsf{A} \\end{bmatrix}$\n",
    "  - we tentatively label the applied load column vector $\\mathsf{F}^{\\mathsf{all}}$, so that we have: $\\mathsf{F}^{\\mathsf{all}} = \\mathsf{K} \\mathsf{\\Delta{P}}$."
   ]
  }
 ],
 "metadata": {
  "kernelspec": {
   "display_name": "Python 3",
   "language": "python",
   "name": "python3"
  },
  "language_info": {
   "name": "python",
   "version": "3.10.0"
  },
  "orig_nbformat": 4
 },
 "nbformat": 4,
 "nbformat_minor": 2
}
